{
 "cells": [
  {
   "cell_type": "markdown",
   "metadata": {},
   "source": [
    "## What is NumPy\n",
    "- It is a Python library that provides support for large, multi-dimensional arrays and matrices, along with a collection of mathematical functions to operate on these arrays. "
   ]
  },
  {
   "cell_type": "code",
   "execution_count": null,
   "metadata": {},
   "outputs": [],
   "source": [
    "import numpy as np\n",
    "\n",
    "start = np.array([12, 34, 56])\n",
    "start"
   ]
  },
  {
   "cell_type": "markdown",
   "metadata": {},
   "source": [
    "### Arrays in NumPy\n",
    "- same data type\n",
    "- indexed\n",
    "- can be of different dimension\n"
   ]
  },
  {
   "cell_type": "code",
   "execution_count": null,
   "metadata": {},
   "outputs": [],
   "source": [
    "import numpy as np\n",
    "\n",
    "# 1-D array\n",
    "_1_d = np.array([12, 45])\n",
    "print(\"This is a one-dimensional array:\\n\", _1_d)\n",
    "print(\"Shape:\", _1_d.shape)\n",
    "print(_1_d[1])"
   ]
  },
  {
   "cell_type": "code",
   "execution_count": null,
   "metadata": {},
   "outputs": [],
   "source": [
    "# 2-D array\n",
    "_2_d = np.array([[12, 45], [45, 78]])\n",
    "print(\"This is a two-dimensional array:\\n\", _2_d)\n",
    "print(\"Shape:\", _2_d.shape)\n",
    "print(_2_d[1,1])"
   ]
  },
  {
   "cell_type": "code",
   "execution_count": null,
   "metadata": {},
   "outputs": [],
   "source": [
    "# 3-D array\n",
    "_3_d = np.array([[[12, 45], [77, 90]]])#1 layers, each layer has 2 rows, and each row has 2 columns.\n",
    "print(\"This is a three-dimensional array:\\n\", _3_d)\n",
    "print(\"Shape:\", _3_d.shape)\n",
    "print(_3_d[0,1])#[77 90]\n",
    "print(_3_d[0,1,1])#90"
   ]
  },
  {
   "cell_type": "code",
   "execution_count": null,
   "metadata": {},
   "outputs": [],
   "source": [
    "# 4-D array\n",
    "_4_d = np.array([[[[12, 45, 677,78], [678,67, 90, 33], [35,657, 7, 890]]]])\n",
    "print(\"This is a four-dimensional array:\\n\", _4_d)\n",
    "print(\"Shape:\", _4_d.shape)\n",
    "print(_4_d[0,0,2,2])"
   ]
  },
  {
   "cell_type": "code",
   "execution_count": null,
   "metadata": {},
   "outputs": [],
   "source": [
    "import numpy as np\n",
    "\n",
    "# Create a 2-layered 4-dimensional array\n",
    "array_4d_2layers = np.array(\n",
    "    [\n",
    "        [[[12, 45, 677], [678, 90, 33], [35657, 7, 890]]],\n",
    "        [[[1, 2, 3], [4, 5, 6], [7, 8, 9]]],\n",
    "    ]\n",
    ")  # 2 layers, 1 row, 3 columns, and 3 elements in each column.\n",
    "print(\"2-Layered 4-D Array:\\n\", array_4d_2layers)\n",
    "print(array_4d_2layers.shape)\n",
    "print(array_4d_2layers[1,0,1,2])"
   ]
  },
  {
   "cell_type": "markdown",
   "metadata": {},
   "source": [
    "#### NumpPy basic functions"
   ]
  },
  {
   "cell_type": "code",
   "execution_count": null,
   "metadata": {},
   "outputs": [],
   "source": [
    "print(\"Array filled with zeros\\n\",np.zeros((2,4)))\n",
    "print(\"Array filled with ones\\n\",np.ones((3,4)))\n"
   ]
  },
  {
   "cell_type": "code",
   "execution_count": null,
   "metadata": {},
   "outputs": [],
   "source": [
    "#np.arange: create arrays with regularly spaced values\n",
    "#parameters(start,stop(exclusive),step,datatype)\n",
    "print(\"Using arange\",np.arange((4)))\n",
    "print(\"Using arange with parameters\",np.arange(10,28,2, dtype=\"int32\"))"
   ]
  },
  {
   "cell_type": "code",
   "execution_count": null,
   "metadata": {},
   "outputs": [],
   "source": [
    "#linspace\n",
    "#create evenly distributed arrays\n",
    "#parameters(start,stop,num to be generated,endpoint(to be included or not),dtype)\n",
    "lin=np.linspace(20,40,6,endpoint=1,dtype=\"int64\")\n",
    "reshaped=np.reshape(lin,(3,2))\n",
    "print(reshaped)"
   ]
  },
  {
   "cell_type": "markdown",
   "metadata": {},
   "source": [
    "#### Indexing and slicing"
   ]
  },
  {
   "cell_type": "code",
   "execution_count": 64,
   "metadata": {},
   "outputs": [
    {
     "ename": "SyntaxError",
     "evalue": "invalid syntax (4085879157.py, line 5)",
     "output_type": "error",
     "traceback": [
      "\u001b[1;36m  Cell \u001b[1;32mIn[64], line 5\u001b[1;36m\u001b[0m\n\u001b[1;33m    print(qe[:::2])#jumps every 1 elements[45 99 77]\u001b[0m\n\u001b[1;37m               ^\u001b[0m\n\u001b[1;31mSyntaxError\u001b[0m\u001b[1;31m:\u001b[0m invalid syntax\n"
     ]
    }
   ],
   "source": [
    "qe=np.array([45,67,99,21,77,89])\n",
    "print(qe)\n",
    "print(qe[4:])#[77,89]\n",
    "print(qe[:4])#45-21 index 4exclusive\n",
    "print(qe[::2])#jumps every 1 elements[45 99 77]"
   ]
  }
 ],
 "metadata": {
  "kernelspec": {
   "display_name": "Python 3",
   "language": "python",
   "name": "python3"
  },
  "language_info": {
   "codemirror_mode": {
    "name": "ipython",
    "version": 3
   },
   "file_extension": ".py",
   "mimetype": "text/x-python",
   "name": "python",
   "nbconvert_exporter": "python",
   "pygments_lexer": "ipython3",
   "version": "3.12.2"
  }
 },
 "nbformat": 4,
 "nbformat_minor": 2
}
