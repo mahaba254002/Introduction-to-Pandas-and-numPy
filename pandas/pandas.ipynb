{
 "cells": [
  {
   "cell_type": "markdown",
   "metadata": {},
   "source": [
    "## Pandas\n",
    "-  It is a popular open-source data manipulation and analysis library for Python.\n",
    "- It provides data structures and functions for efficiently working with structured data, such as tabular data, time series, and more.\n",
    "-  Pandas is widely used in data science, data analysis, and machine learning tasks."
   ]
  },
  {
   "cell_type": "markdown",
   "metadata": {},
   "source": [
    "### Data loading in Pandas\n",
    "- In pandas you can load data from various places such csv,sql and json. "
   ]
  },
  {
   "cell_type": "code",
   "execution_count": null,
   "metadata": {},
   "outputs": [],
   "source": [
    "import pandas as pd\n",
    "loader=pd.read_csv(\"customers.csv\") #csv\n",
    "print(loader.head(5))\n",
    "#df = pd.read_excel('data.xlsx', sheet_name='Sheet1')\n",
    "#df = pd.read_json('data.xlsx')\n",
    "#df = pd.read_csv(\"https://example.com/data.csv\")"
   ]
  },
  {
   "cell_type": "code",
   "execution_count": null,
   "metadata": {},
   "outputs": [],
   "source": [
    "import sqlite3\n",
    "import pandas as pd\n",
    "\n",
    "# Create a connection\n",
    "conn = sqlite3.connect(\"pictureparadise.db\")\n",
    "\n",
    "cur = conn.cursor()\n",
    "\n",
    "# Execute the SQL statement to create the table\n",
    "cur.execute(\"\"\"\n",
    "    CREATE TABLE IF NOT EXISTS mabz (\n",
    "        id INTEGER PRIMARY KEY AUTOINCREMENT,\n",
    "        name VARCHAR(40),\n",
    "        country VARCHAR(20)\n",
    "    );\n",
    "\"\"\")\n",
    "\n",
    "# Insert data into the table\n",
    "cur.execute(\"\"\"\n",
    "INSERT INTO mabz (name, country) VALUES (\"Salim ali\", \"Kenya\");\n",
    "\"\"\")\n",
    "conn.commit()\n",
    "\n",
    "# Read the data from the table into a DataFrame\n",
    "query = \"SELECT * FROM mabz\"\n",
    "df = pd.read_sql_query(query, conn)\n",
    "\n",
    "# Close the connection\n",
    "conn.close()\n",
    "\n",
    "# Print the DataFrame\n",
    "print(df)"
   ]
  },
  {
   "cell_type": "code",
   "execution_count": null,
   "metadata": {},
   "outputs": [],
   "source": [
    "import pandas as pd\n",
    "import sqlite3\n",
    "\n",
    "# Create a connection to the SQLite database\n",
    "conn = sqlite3.connect(\"pictureparadise.db\")\n",
    "\n",
    "# Query the table and retrieve the records\n",
    "query = \"SELECT * FROM users\"\n",
    "result = pd.read_sql_query(query, conn)\n",
    "\n",
    "# Save the query results to a CSV file\n",
    "result.to_csv(\"output.csv\", index=False)\n",
    "\n",
    "# Close the connection\n",
    "conn.close()"
   ]
  },
  {
   "cell_type": "markdown",
   "metadata": {},
   "source": [
    "### Dataframes\n",
    "- A DataFrame is a two-dimensional labeled data structure that is similar to a table  \n",
    "- It consists of rows and columns, where each column can have a different data type and a column name"
   ]
  },
  {
   "cell_type": "code",
   "execution_count": null,
   "metadata": {},
   "outputs": [],
   "source": [
    "#creating a dataframe\n",
    "df={\n",
    "  \"Name\":[\"Alice Kiprotich\",\"Salim Ali\"],\n",
    "  \"Age\": [21,34]\n",
    "}\n",
    "print(df)"
   ]
  },
  {
   "cell_type": "markdown",
   "metadata": {},
   "source": [
    "### Pandas basic functions"
   ]
  },
  {
   "cell_type": "code",
   "execution_count": null,
   "metadata": {},
   "outputs": [],
   "source": [
    "csv=pd.read_csv(\"customers.csv\")\n",
    "#print(csv.head(10))\n",
    "#print(csv.size)\n",
    "#print(csv.describe())\n",
    "#print(csv.isnull())\n",
    "#print(csv.loc[2,\"First Name\"]) #index 2 column First Name\n",
    "#print(csv.loc[:,[\"First Name\",\"Last Name\"]]) #select multiple rows\n",
    "print(csv.loc[:,\"First Name\":\"City\"])\n"
   ]
  },
  {
   "cell_type": "markdown",
   "metadata": {},
   "source": [
    "#### Dropna()\n",
    "- Allows to drop rows/columns with null values\n",
    "\n",
    "*Parameters:*\n",
    "- axis: axis takes int or string value for rows/columns. \n",
    "- how: how takes string value of two kinds only (‘any’ or ‘all’). ‘any’ drops the row/column if ANY value is Null and ‘all’ drops only if ALL values are null.\n",
    "- thresh: thresh takes integer value which tells minimum amount of na values to drop. \n",
    "- subset: It’s an array which limits the dropping process to passed rows/columns through list. \n",
    "- inplace: It is a boolean which makes the changes in data frame itself if True."
   ]
  },
  {
   "cell_type": "code",
   "execution_count": 28,
   "metadata": {},
   "outputs": [
    {
     "name": "stdout",
     "output_type": "stream",
     "text": [
      "       A_id   Size  Weight  Sweetness  Crunchiness  Juiciness  Ripeness  \\\n",
      "0     False  False   False      False        False      False     False   \n",
      "1     False  False   False      False        False      False     False   \n",
      "2     False  False   False      False        False      False     False   \n",
      "3     False  False   False      False        False      False     False   \n",
      "4     False  False   False      False        False      False     False   \n",
      "...     ...    ...     ...        ...          ...        ...       ...   \n",
      "3996  False  False   False      False        False      False     False   \n",
      "3997  False  False   False      False        False      False     False   \n",
      "3998  False  False   False      False        False      False     False   \n",
      "3999  False  False   False      False        False      False     False   \n",
      "4000   True   True    True       True         True       True      True   \n",
      "\n",
      "      Acidity  Quality  \n",
      "0       False    False  \n",
      "1       False    False  \n",
      "2       False    False  \n",
      "3       False    False  \n",
      "4       False    False  \n",
      "...       ...      ...  \n",
      "3996    False    False  \n",
      "3997    False    False  \n",
      "3998    False    False  \n",
      "3999    False    False  \n",
      "4000    False     True  \n",
      "\n",
      "[4001 rows x 9 columns]\n",
      "      Acidity\n",
      "0       False\n",
      "1       False\n",
      "2       False\n",
      "3       False\n",
      "4       False\n",
      "...       ...\n",
      "3996    False\n",
      "3997    False\n",
      "3998    False\n",
      "3999    False\n",
      "4000    False\n",
      "\n",
      "[4001 rows x 1 columns]\n"
     ]
    }
   ],
   "source": [
    "apple=pd.read_csv(\"apple_quality.csv\")\n",
    "print(apple.isna())\n",
    "new_csv=apple.dropna(axis=1,how=\"any\")\n",
    "print(new_csv.isna())"
   ]
  }
 ],
 "metadata": {
  "kernelspec": {
   "display_name": "Python 3",
   "language": "python",
   "name": "python3"
  },
  "language_info": {
   "codemirror_mode": {
    "name": "ipython",
    "version": 3
   },
   "file_extension": ".py",
   "mimetype": "text/x-python",
   "name": "python",
   "nbconvert_exporter": "python",
   "pygments_lexer": "ipython3",
   "version": "3.12.2"
  }
 },
 "nbformat": 4,
 "nbformat_minor": 2
}
