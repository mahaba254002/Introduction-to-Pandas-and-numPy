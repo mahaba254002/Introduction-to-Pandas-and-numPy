{
 "cells": [
  {
   "cell_type": "markdown",
   "metadata": {},
   "source": [
    "# Activation Functions\n",
    "- They are mathematical functions applied to the output of a neuron or a set of neurons in a neural network.\n",
    "- They introduce non-linearity to the network, allowing it to learn complex patterns and make more accurate predictions."
   ]
  },
  {
   "cell_type": "code",
   "execution_count": null,
   "metadata": {},
   "outputs": [],
   "source": []
  },
  {
   "cell_type": "markdown",
   "metadata": {},
   "source": [
    "Maxpooling\n",
    "- Pooling is a downsampling operation that reduces dimensionality of the feature map\n",
    "- When performing max pooling with a 2x2 pooling window and a stride of 2, the resultant output will have dimensions that are reduced by half in both rows and columns compared to the input stride of 1 result 1 row less.\n",
    "\n",
    "**Stride**\n",
    "- A stride determines the step size or the amount by which the pooling window moves horizontally & vertically\n",
    "- A stride of 1 means that the pooling window moves one unit at a time, resulting in overlapping regions\n",
    "- A stride of 2 means that the pooling window moves two units at a time, resulting in non-overlapping regions.\n",
    "\n",
    "**Window size**\n",
    "- Determines the size of the regions over which the maximum value is computed.\n",
    "- In average pooling, the window size determines the size of the regions over which the average value is calculated.\n",
    "- Common window sizes are 2x2 or 3x3, but other sizes can also be used."
   ]
  },
  {
   "cell_type": "code",
   "execution_count": 1,
   "metadata": {},
   "outputs": [
    {
     "name": "stdout",
     "output_type": "stream",
     "text": [
      "Input Matrix:\n",
      "[[ 1  2  3  4  5  6]\n",
      " [ 7  8  9 10 11 12]\n",
      " [13 14 15 16 17 18]\n",
      " [19 20 21 22 23 24]]\n",
      "\n",
      "Output Matrix (Max Pooling):\n",
      "[[ 8.  9. 10. 11. 12.]\n",
      " [14. 15. 16. 17. 18.]\n",
      " [20. 21. 22. 23. 24.]]\n"
     ]
    }
   ],
   "source": [
    "import numpy as np\n",
    "\n",
    "# Input matrix\n",
    "input_matrix = np.array([[1, 2, 3, 4, 5, 6],\n",
    "                         [7, 8, 9, 10, 11, 12],\n",
    "                         [13, 14, 15, 16, 17, 18],\n",
    "                         [19, 20, 21, 22, 23, 24]])\n",
    "\n",
    "# Pooling window size and stride\n",
    "window_size = (2, 2)\n",
    "stride = (1, 1)\n",
    "\n",
    "# Compute output shape\n",
    "output_shape = ((input_matrix.shape[0] - window_size[0]) // stride[0] + 1,\n",
    "                (input_matrix.shape[1] - window_size[1]) // stride[1] + 1)\n",
    "\n",
    "# Initialize output matrix\n",
    "output_matrix = np.zeros(output_shape)\n",
    "\n",
    "# Perform max pooling\n",
    "for i in range(output_shape[0]):\n",
    "    for j in range(output_shape[1]):\n",
    "        window = input_matrix[i:i+window_size[0], j:j+window_size[1]]\n",
    "        output_matrix[i, j] = np.max(window)\n",
    "\n",
    "print(\"Input Matrix:\")\n",
    "print(input_matrix)\n",
    "print(\"\\nOutput Matrix (Max Pooling):\")\n",
    "print(output_matrix)"
   ]
  }
 ],
 "metadata": {
  "kernelspec": {
   "display_name": "Python 3",
   "language": "python",
   "name": "python3"
  },
  "language_info": {
   "codemirror_mode": {
    "name": "ipython",
    "version": 3
   },
   "file_extension": ".py",
   "mimetype": "text/x-python",
   "name": "python",
   "nbconvert_exporter": "python",
   "pygments_lexer": "ipython3",
   "version": "3.12.2"
  }
 },
 "nbformat": 4,
 "nbformat_minor": 2
}
